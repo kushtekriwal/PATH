{
 "cells": [
  {
   "cell_type": "code",
   "execution_count": 1,
   "metadata": {},
   "outputs": [],
   "source": [
    "import pandas as pd\n",
    "import numpy as np"
   ]
  },
  {
   "cell_type": "code",
   "execution_count": 42,
   "metadata": {},
   "outputs": [],
   "source": [
    "bf_policy = pd.read_csv(\"C:/Users/kusht/Downloads/1210/Burkina Faso Indicator sources and metadata.csv\", encoding='latin_1')"
   ]
  },
  {
   "cell_type": "code",
   "execution_count": 253,
   "metadata": {},
   "outputs": [],
   "source": [
    "data = pd.read_csv(\"C:/Users/kusht/Downloads/saved/Merged_Data_v19.csv\")"
   ]
  },
  {
   "cell_type": "code",
   "execution_count": 13,
   "metadata": {},
   "outputs": [],
   "source": [
    "bf = data[data['Country'] == 'Burkina Faso']"
   ]
  },
  {
   "cell_type": "code",
   "execution_count": 10,
   "metadata": {},
   "outputs": [],
   "source": [
    "model = pd.read_csv(\"C:/Users/kusht/Downloads/saved/modelf7.csv\")"
   ]
  },
  {
   "cell_type": "code",
   "execution_count": 11,
   "metadata": {},
   "outputs": [
    {
     "data": {
      "text/plain": [
       "array(['DHS', 'ENAP',\n",
       "       'Service Availability and Readiness Assesment (SARA)'],\n",
       "      dtype=object)"
      ]
     },
     "execution_count": 11,
     "metadata": {},
     "output_type": "execute_result"
    }
   ],
   "source": [
    "model[model['Country'] == 'Burkina Faso']['Data Source'].unique()"
   ]
  },
  {
   "cell_type": "code",
   "execution_count": 17,
   "metadata": {},
   "outputs": [],
   "source": [
    "bf_other = bf[(bf['Data Source'] == 'DHS') | (bf['Data Source'] == 'ENAP') | (bf['Data Source'] == 'Service Availability and Readiness Assesment (SARA)')]"
   ]
  },
  {
   "cell_type": "code",
   "execution_count": 18,
   "metadata": {},
   "outputs": [
    {
     "data": {
      "text/plain": [
       "['Accessibility',\n",
       " 'Asset',\n",
       " 'Characteristic Category',\n",
       " 'Characteristic Label',\n",
       " 'Closest to coverage',\n",
       " 'Country',\n",
       " 'Data Quality Considerations (representative, standardized data collection methods)',\n",
       " 'Data Source',\n",
       " 'Direct Indicator? (yes/no)',\n",
       " 'Frequency Notes (# of years, frequency)',\n",
       " 'Indicator Definition (per source, or PATH definition if source does not define)',\n",
       " 'Indicator Name',\n",
       " 'Indicator Value (Numeric)',\n",
       " 'Indicator Value (Text)',\n",
       " 'Milestone and ID',\n",
       " 'Most Recent Year Available',\n",
       " 'Notes and Considerations',\n",
       " 'Panel Data Available (y/n)',\n",
       " 'Priority Indicator? (Yes/No)',\n",
       " 'Priority Milestone (Yes/No)',\n",
       " 'Stage and ID',\n",
       " 'Type of Data Source',\n",
       " 'Year']"
      ]
     },
     "execution_count": 18,
     "metadata": {},
     "output_type": "execute_result"
    }
   ],
   "source": [
    "bf_other.columns.tolist()"
   ]
  },
  {
   "cell_type": "code",
   "execution_count": 43,
   "metadata": {},
   "outputs": [],
   "source": [
    "bf_policy.columns.tolist()\n",
    "bf_policy = bf_policy.rename(columns={'Indicator Definition (per source, or PATH definition if source does not defined)':'Indicator Definition (per source, or PATH definition if source does not define)','Indicator Source (linked to IS sheet)':'Data Source','Asset (drop-down)':'Asset','Stage and ID (drop-down)':'Stage and ID','Milestone and ID (drop-down)':'Milestone and ID','Priority Milestone? (Y/N)':'Priority Milestone (Yes/No)','Closest to Coverage? (Y/N)':'Closest to coverage','Indicator Value (Yes/No/NA). Asset included in policy/guidelines? Only applies to country-specific data (not \"All Countries\")':'Indicator Value (Text)','Indicator Name (as used in indicator source)':'Indicator Name',})\n",
    "bf_policy = bf_policy.drop(['Indicator Defined by Source? (yes/no)'], axis=1)"
   ]
  },
  {
   "cell_type": "code",
   "execution_count": 44,
   "metadata": {},
   "outputs": [],
   "source": [
    "bf_policy['Characteristic Category'] = 'Total'\n",
    "bf_policy['Characteristic Label'] = 'Total'\n",
    "bf_policy['Indicator Value (Numeric)'] = np.nan\n",
    "bf_policy['Year'] = bf_policy['Most Recent Year Available']"
   ]
  },
  {
   "cell_type": "code",
   "execution_count": 45,
   "metadata": {},
   "outputs": [],
   "source": [
    "bf_all = bf_other.append(bf_policy, ignore_index=True)"
   ]
  },
  {
   "cell_type": "code",
   "execution_count": 254,
   "metadata": {},
   "outputs": [],
   "source": [
    "data = data[data['Country'] != 'Burkina Faso']"
   ]
  },
  {
   "cell_type": "code",
   "execution_count": 255,
   "metadata": {},
   "outputs": [],
   "source": [
    "data2 = data.append(bf_all, ignore_index=True)"
   ]
  },
  {
   "cell_type": "code",
   "execution_count": 47,
   "metadata": {},
   "outputs": [],
   "source": [
    "et_policy = pd.read_csv(\"C:/Users/kusht/Downloads/1210/Ethiopia Indicator sources and metadata.csv\", encoding='latin_1')"
   ]
  },
  {
   "cell_type": "code",
   "execution_count": 34,
   "metadata": {},
   "outputs": [
    {
     "data": {
      "text/plain": [
       "array(['DHS', 'ENAP', 'HMIS'], dtype=object)"
      ]
     },
     "execution_count": 34,
     "metadata": {},
     "output_type": "execute_result"
    }
   ],
   "source": [
    "model[model['Country'] == 'Ethiopia']['Data Source'].unique()"
   ]
  },
  {
   "cell_type": "code",
   "execution_count": 35,
   "metadata": {},
   "outputs": [],
   "source": [
    "et = data[data['Country'] == 'Ethiopia']"
   ]
  },
  {
   "cell_type": "code",
   "execution_count": 36,
   "metadata": {},
   "outputs": [],
   "source": [
    "et_other = et[(et['Data Source'] == 'DHS') | (et['Data Source'] == 'ENAP') | (et['Data Source'] == 'HMIS')]"
   ]
  },
  {
   "cell_type": "code",
   "execution_count": 48,
   "metadata": {},
   "outputs": [],
   "source": [
    "et_policy.columns.tolist()\n",
    "et_policy = et_policy.rename(columns={'Type of data source':'Type of Data Source','Priority Indicator (Y/N)':'Priority Indicator? (Yes/No)','Indicator Definition (per source, or PATH definition if source does not defined)':'Indicator Definition (per source, or PATH definition if source does not define)','Indicator Source (linked to IS sheet)':'Data Source','Asset (drop-down)':'Asset','Stage and ID (drop-down)':'Stage and ID','Milestone and ID (drop-down)':'Milestone and ID','Priority Milestone? (Y/N)':'Priority Milestone (Yes/No)','Closest to coverage (Y/N)':'Closest to coverage','Indicator Value (Yes/No/NA). Asset included in policy/guidelines? Only applies to country-specific data (not \"All Countries\")':'Indicator Value (Text)','Indicator Name (as used in indicator source)':'Indicator Name',})\n",
    "et_policy = et_policy.drop(['Indicator Defined by Source? (yes/no)'], axis=1)"
   ]
  },
  {
   "cell_type": "code",
   "execution_count": 49,
   "metadata": {},
   "outputs": [],
   "source": [
    "et_policy['Characteristic Category'] = 'Total'\n",
    "et_policy['Characteristic Label'] = 'Total'\n",
    "et_policy['Indicator Value (Numeric)'] = np.nan\n",
    "et_policy['Year'] = et_policy['Most Recent Year Available']"
   ]
  },
  {
   "cell_type": "code",
   "execution_count": 50,
   "metadata": {},
   "outputs": [
    {
     "data": {
      "text/plain": [
       "array(['Unknown ', 'Y', 'N', nan], dtype=object)"
      ]
     },
     "execution_count": 50,
     "metadata": {},
     "output_type": "execute_result"
    }
   ],
   "source": [
    "et_policy['Indicator Value (Text)'].unique()"
   ]
  },
  {
   "cell_type": "code",
   "execution_count": 52,
   "metadata": {},
   "outputs": [],
   "source": [
    "et_all = et_other.append(et_policy, ignore_index=True)"
   ]
  },
  {
   "cell_type": "code",
   "execution_count": 256,
   "metadata": {},
   "outputs": [],
   "source": [
    "data2 = data2[data2['Country'] != 'Ethiopia']"
   ]
  },
  {
   "cell_type": "code",
   "execution_count": 257,
   "metadata": {},
   "outputs": [],
   "source": [
    "data2 = data2.append(et_all, ignore_index=True)"
   ]
  },
  {
   "cell_type": "code",
   "execution_count": 54,
   "metadata": {},
   "outputs": [],
   "source": [
    "ke_policy = pd.read_csv(\"C:/Users/kusht/Downloads/1210/Kenya Indicator sources and metadata.csv\", encoding='latin_1')"
   ]
  },
  {
   "cell_type": "code",
   "execution_count": 55,
   "metadata": {},
   "outputs": [
    {
     "data": {
      "text/plain": [
       "array(['DHS', 'ENAP', 'HMIS', 'DHS Service Provision Assesment (SPA)'],\n",
       "      dtype=object)"
      ]
     },
     "execution_count": 55,
     "metadata": {},
     "output_type": "execute_result"
    }
   ],
   "source": [
    "model[model['Country'] == 'Kenya']['Data Source'].unique()"
   ]
  },
  {
   "cell_type": "code",
   "execution_count": 56,
   "metadata": {},
   "outputs": [],
   "source": [
    "ke = data[data['Country'] == 'Kenya']"
   ]
  },
  {
   "cell_type": "code",
   "execution_count": 57,
   "metadata": {},
   "outputs": [],
   "source": [
    "ke_other = ke[(ke['Data Source'] == 'DHS') | (ke['Data Source'] == 'ENAP') | (ke['Data Source'] == 'HMIS') | (ke['Data Source'] == 'DHS Service Provision Assesment (SPA)')]"
   ]
  },
  {
   "cell_type": "code",
   "execution_count": 59,
   "metadata": {},
   "outputs": [],
   "source": [
    "ke_policy.columns.tolist()\n",
    "ke_policy = ke_policy.rename(columns={'Type of data source':'Type of Data Source','Priority Indicator (Y/N)':'Priority Indicator? (Yes/No)','Indicator Definition (per source, or PATH definition if source does not defined)':'Indicator Definition (per source, or PATH definition if source does not define)','Indicator Source (linked to IS sheet)':'Data Source','Asset (drop-down)':'Asset','Stage and ID (drop-down)':'Stage and ID','Milestone and ID (drop-down)':'Milestone and ID','Priority Milestone? (Y/N)':'Priority Milestone (Yes/No)','Closest to Coverage':'Closest to coverage','Indicator Value (Yes/No/NA). Asset included in policy/guidelines? Only applies to country-specific data (not \"All Countries\")':'Indicator Value (Text)','Indicator Name\\xa0':'Indicator Name'})\n",
    "ke_policy = ke_policy.drop(['Indicator Defined by Source? (yes/no)'], axis=1)"
   ]
  },
  {
   "cell_type": "code",
   "execution_count": 60,
   "metadata": {},
   "outputs": [],
   "source": [
    "ke_policy['Characteristic Category'] = 'Total'\n",
    "ke_policy['Characteristic Label'] = 'Total'\n",
    "ke_policy['Indicator Value (Numeric)'] = np.nan\n",
    "ke_policy['Year'] = ke_policy['Most Recent Year Available']"
   ]
  },
  {
   "cell_type": "code",
   "execution_count": 63,
   "metadata": {},
   "outputs": [
    {
     "data": {
      "text/plain": [
       "array(['Unknown', 'Y', 'N', nan], dtype=object)"
      ]
     },
     "execution_count": 63,
     "metadata": {},
     "output_type": "execute_result"
    }
   ],
   "source": [
    "ke_policy['Indicator Value (Text)'].unique()"
   ]
  },
  {
   "cell_type": "code",
   "execution_count": 62,
   "metadata": {},
   "outputs": [
    {
     "name": "stderr",
     "output_type": "stream",
     "text": [
      "C:\\ProgramData\\Anaconda3\\lib\\site-packages\\pandas\\core\\indexing.py:194: SettingWithCopyWarning: \n",
      "A value is trying to be set on a copy of a slice from a DataFrame\n",
      "\n",
      "See the caveats in the documentation: http://pandas.pydata.org/pandas-docs/stable/indexing.html#indexing-view-versus-copy\n",
      "  self._setitem_with_indexer(indexer, value)\n"
     ]
    }
   ],
   "source": [
    "for idx, i in enumerate(ke_policy['Indicator Value (Text)']):\n",
    "    if i == 'N ':\n",
    "        ke_policy['Indicator Value (Text)'].iloc[idx] = 'N'"
   ]
  },
  {
   "cell_type": "code",
   "execution_count": 65,
   "metadata": {},
   "outputs": [],
   "source": [
    "ke_all = ke_other.append(ke_policy, ignore_index=True)"
   ]
  },
  {
   "cell_type": "code",
   "execution_count": 258,
   "metadata": {},
   "outputs": [],
   "source": [
    "data2 = data2[data2['Country'] != 'Kenya']"
   ]
  },
  {
   "cell_type": "code",
   "execution_count": 259,
   "metadata": {},
   "outputs": [],
   "source": [
    "data2 = data2.append(ke_all, ignore_index=True)"
   ]
  },
  {
   "cell_type": "code",
   "execution_count": 79,
   "metadata": {},
   "outputs": [],
   "source": [
    "mw_policy = pd.read_csv(\"C:/Users/kusht/Downloads/1210/Malawi Indicator sources and metadata.csv\", encoding='latin_1')"
   ]
  },
  {
   "cell_type": "code",
   "execution_count": 80,
   "metadata": {},
   "outputs": [
    {
     "data": {
      "text/plain": [
       "array(['DHS', 'ENAP', 'HMIS', 'DHS Service Provision Assesment (SPA)'],\n",
       "      dtype=object)"
      ]
     },
     "execution_count": 80,
     "metadata": {},
     "output_type": "execute_result"
    }
   ],
   "source": [
    "model[model['Country'] == 'Malawi']['Data Source'].unique()"
   ]
  },
  {
   "cell_type": "code",
   "execution_count": 88,
   "metadata": {},
   "outputs": [],
   "source": [
    "mw = data2[data2['Country'] == 'Malawi']"
   ]
  },
  {
   "cell_type": "code",
   "execution_count": 90,
   "metadata": {},
   "outputs": [],
   "source": [
    "mw_other = mw[(mw['Data Source'] == 'DHS') | (mw['Data Source'] == 'ENAP') | (mw['Data Source'] == 'HMIS') | (mw['Data Source'] == 'DHS Service Provision Assesment (SPA)')]"
   ]
  },
  {
   "cell_type": "code",
   "execution_count": 129,
   "metadata": {},
   "outputs": [],
   "source": [
    "mw_policy.columns.tolist()\n",
    "mw_policy = mw_policy.rename(columns={'Type of data source':'Type of Data Source','Priority Indicator (Y/N)':'Priority Indicator? (Yes/No)','Indicator Definition (per source, or PATH definition if source does not defined)':'Indicator Definition (per source, or PATH definition if source does not define)','Indicator Source (linked to IS sheet)':'Data Source','Asset (drop-down)':'Asset','Stage and ID (drop-down)':'Stage and ID','Milestone and ID (drop-down)':'Milestone and ID','Priority Milestone? (Y/N)':'Priority Milestone (Yes/No)','Closest to coverage (Y/N)':'Closest to coverage','Indicator Value (Yes/No/NA). Asset included in policy/guidelines? Only applies to country-specific data (not \"All Countries\")':'Indicator Value (Text)','Indicator Name (as used in indicator source)':'Indicator Name'})\n",
    "#mw_policy = mw_policy.drop(['Indicator Defined by Source? (yes/no)'], axis=1)"
   ]
  },
  {
   "cell_type": "code",
   "execution_count": 99,
   "metadata": {},
   "outputs": [],
   "source": [
    "mw_policy['Characteristic Category'] = 'Total'\n",
    "mw_policy['Characteristic Label'] = 'Total'\n",
    "mw_policy['Indicator Value (Numeric)'] = np.nan\n",
    "mw_policy['Year'] = mw_policy['Most Recent Year Available']"
   ]
  },
  {
   "cell_type": "code",
   "execution_count": 100,
   "metadata": {},
   "outputs": [
    {
     "data": {
      "text/plain": [
       "array(['Unknown', 'N', 'Y', nan], dtype=object)"
      ]
     },
     "execution_count": 100,
     "metadata": {},
     "output_type": "execute_result"
    }
   ],
   "source": [
    "mw_policy['Indicator Value (Text)'].unique()"
   ]
  },
  {
   "cell_type": "code",
   "execution_count": 137,
   "metadata": {},
   "outputs": [],
   "source": [
    "mw_all = mw_other.append(mw_policy, ignore_index=True)"
   ]
  },
  {
   "cell_type": "code",
   "execution_count": 260,
   "metadata": {},
   "outputs": [],
   "source": [
    "data2 = data2[data2['Country'] != 'Malawi']"
   ]
  },
  {
   "cell_type": "code",
   "execution_count": 261,
   "metadata": {},
   "outputs": [],
   "source": [
    "data2 = data2.append(mw_all, ignore_index=True)"
   ]
  },
  {
   "cell_type": "code",
   "execution_count": 105,
   "metadata": {},
   "outputs": [],
   "source": [
    "ng_policy = pd.read_csv(\"C:/Users/kusht/Downloads/1210/Nigeria Indicator sources and metadata.csv\", encoding='latin_1')"
   ]
  },
  {
   "cell_type": "code",
   "execution_count": 106,
   "metadata": {},
   "outputs": [
    {
     "data": {
      "text/plain": [
       "array(['DHS', 'ENAP', 'HMIS',\n",
       "       'Service Availability and Readiness Assesment (SARA)'],\n",
       "      dtype=object)"
      ]
     },
     "execution_count": 106,
     "metadata": {},
     "output_type": "execute_result"
    }
   ],
   "source": [
    "model[model['Country'] == 'Nigeria']['Data Source'].unique()"
   ]
  },
  {
   "cell_type": "code",
   "execution_count": 141,
   "metadata": {},
   "outputs": [],
   "source": [
    "ng = data2[data2['Country'] == 'Nigeria']"
   ]
  },
  {
   "cell_type": "code",
   "execution_count": 142,
   "metadata": {},
   "outputs": [],
   "source": [
    "ng_other = ng[(ng['Data Source'] == 'DHS') | (ng['Data Source'] == 'ENAP') | (ng['Data Source'] == 'HMIS') | (ng['Data Source'] == 'Service Availability and Readiness Assesment (SARA)')]"
   ]
  },
  {
   "cell_type": "code",
   "execution_count": 143,
   "metadata": {},
   "outputs": [],
   "source": [
    "ng_policy.columns.tolist()\n",
    "ng_policy = ng_policy.rename(columns={'Type of data source':'Type of Data Source','Priority Indicator (Y/N)':'Priority Indicator? (Yes/No)','Indicator Definition (per source, or PATH definition if source does not defined)':'Indicator Definition (per source, or PATH definition if source does not define)','Indicator Source (linked to IS sheet)':'Data Source','Asset (drop-down)':'Asset','Stage and ID (drop-down)':'Stage and ID','Milestone and ID (drop-down)':'Milestone and ID','Priority Milestone? (Y/N)':'Priority Milestone (Yes/No)','Closest to Coverage? (Y/N)':'Closest to coverage','Indicator Value (Yes/No/NA). Asset included in policy/guidelines? Only applies to country-specific data (not \"All Countries\")':'Indicator Value (Text)','Indicator Name (as used in indicator source)':'Indicator Name'})\n",
    "#ng_policy = ng_policy.drop(['Indicator Defined by Source? (yes/no)'], axis=1)"
   ]
  },
  {
   "cell_type": "code",
   "execution_count": 144,
   "metadata": {},
   "outputs": [],
   "source": [
    "ng_policy['Characteristic Category'] = 'Total'\n",
    "ng_policy['Characteristic Label'] = 'Total'\n",
    "ng_policy['Indicator Value (Numeric)'] = np.nan\n",
    "ng_policy['Year'] = ng_policy['Most Recent Year Available']"
   ]
  },
  {
   "cell_type": "code",
   "execution_count": 127,
   "metadata": {},
   "outputs": [
    {
     "data": {
      "text/plain": [
       "array(['N', 'Y', nan, 'Unknown', 'Foot note'], dtype=object)"
      ]
     },
     "execution_count": 127,
     "metadata": {},
     "output_type": "execute_result"
    }
   ],
   "source": [
    "ng_policy['Indicator Value (Text)'].unique()"
   ]
  },
  {
   "cell_type": "code",
   "execution_count": 117,
   "metadata": {},
   "outputs": [
    {
     "name": "stderr",
     "output_type": "stream",
     "text": [
      "C:\\ProgramData\\Anaconda3\\lib\\site-packages\\pandas\\core\\indexing.py:194: SettingWithCopyWarning: \n",
      "A value is trying to be set on a copy of a slice from a DataFrame\n",
      "\n",
      "See the caveats in the documentation: http://pandas.pydata.org/pandas-docs/stable/indexing.html#indexing-view-versus-copy\n",
      "  self._setitem_with_indexer(indexer, value)\n"
     ]
    }
   ],
   "source": [
    "for idx, i in enumerate(ng_policy['Indicator Value (Text)']):\n",
    "    if i == 'Unknown ':\n",
    "        ng_policy['Indicator Value (Text)'].iloc[idx] = 'Unknown'"
   ]
  },
  {
   "cell_type": "code",
   "execution_count": 146,
   "metadata": {},
   "outputs": [],
   "source": [
    "ng_all = ng_other.append(ng_policy, ignore_index=True)"
   ]
  },
  {
   "cell_type": "code",
   "execution_count": 262,
   "metadata": {},
   "outputs": [],
   "source": [
    "data2 = data2[data2['Country'] != 'Nigeria']"
   ]
  },
  {
   "cell_type": "code",
   "execution_count": 263,
   "metadata": {},
   "outputs": [],
   "source": [
    "data2 = data2.append(ng_all, ignore_index=True)"
   ]
  },
  {
   "cell_type": "code",
   "execution_count": 149,
   "metadata": {},
   "outputs": [],
   "source": [
    "tz_policy = pd.read_csv(\"C:/Users/kusht/Downloads/1210/Tanzania Indicator sources and metadata.csv\", encoding='latin_1')"
   ]
  },
  {
   "cell_type": "code",
   "execution_count": 150,
   "metadata": {},
   "outputs": [
    {
     "data": {
      "text/plain": [
       "array(['DHS', 'ENAP', 'HMIS', 'DHS Service Provision Assesment (SPA)'],\n",
       "      dtype=object)"
      ]
     },
     "execution_count": 150,
     "metadata": {},
     "output_type": "execute_result"
    }
   ],
   "source": [
    "model[model['Country'] == 'Tanzania']['Data Source'].unique()"
   ]
  },
  {
   "cell_type": "code",
   "execution_count": 151,
   "metadata": {},
   "outputs": [],
   "source": [
    "tz = data2[data2['Country'] == 'Tanzania']"
   ]
  },
  {
   "cell_type": "code",
   "execution_count": 152,
   "metadata": {},
   "outputs": [],
   "source": [
    "tz_other = tz[(tz['Data Source'] == 'DHS') | (tz['Data Source'] == 'ENAP') | (tz['Data Source'] == 'HMIS') | (tz['Data Source'] == 'DHS Service Provision Assesment (SPA)')]"
   ]
  },
  {
   "cell_type": "code",
   "execution_count": 160,
   "metadata": {},
   "outputs": [],
   "source": [
    "tz_policy.columns.tolist()\n",
    "tz_policy = tz_policy.rename(columns={'Type of data source':'Type of Data Source','Priority Indicator (Y/N)':'Priority Indicator? (Yes/No)','Indicator Definition (per source, or PATH definition if source does not defined)':'Indicator Definition (per source, or PATH definition if source does not define)','Indicator Source (linked to IS sheet)':'Data Source','Asset (drop-down)':'Asset','Stage and ID (drop-down)':'Stage and ID','Milestone and ID (drop-down)':'Milestone and ID','Priority Milestone (Y/N)':'Priority Milestone (Yes/No)','Closest to coverage (Y/N)':'Closest to coverage','Indicator Value (Yes/No/NA). Asset included in policy/guidelines? Only applies to country-specific data (not \"All Countries\")':'Indicator Value (Text)','Indicator Name (as used in indicator source)':'Indicator Name'})\n",
    "# = tz_policy.drop(['Indicator Defined by Source? (yes/no)'], axis=1)"
   ]
  },
  {
   "cell_type": "code",
   "execution_count": 161,
   "metadata": {},
   "outputs": [],
   "source": [
    "tz_policy['Characteristic Category'] = 'Total'\n",
    "tz_policy['Characteristic Label'] = 'Total'\n",
    "tz_policy['Indicator Value (Numeric)'] = np.nan\n",
    "tz_policy['Year'] = tz_policy['Most Recent Year Available']"
   ]
  },
  {
   "cell_type": "code",
   "execution_count": 162,
   "metadata": {},
   "outputs": [
    {
     "data": {
      "text/plain": [
       "array(['Unknown', 'Y', 'N', nan], dtype=object)"
      ]
     },
     "execution_count": 162,
     "metadata": {},
     "output_type": "execute_result"
    }
   ],
   "source": [
    "tz_policy['Indicator Value (Text)'].unique()"
   ]
  },
  {
   "cell_type": "code",
   "execution_count": 157,
   "metadata": {},
   "outputs": [
    {
     "name": "stderr",
     "output_type": "stream",
     "text": [
      "C:\\ProgramData\\Anaconda3\\lib\\site-packages\\pandas\\core\\indexing.py:194: SettingWithCopyWarning: \n",
      "A value is trying to be set on a copy of a slice from a DataFrame\n",
      "\n",
      "See the caveats in the documentation: http://pandas.pydata.org/pandas-docs/stable/indexing.html#indexing-view-versus-copy\n",
      "  self._setitem_with_indexer(indexer, value)\n"
     ]
    }
   ],
   "source": [
    "for idx, i in enumerate(tz_policy['Indicator Value (Text)']):\n",
    "    if i == 'N ':\n",
    "        tz_policy['Indicator Value (Text)'].iloc[idx] = 'N'"
   ]
  },
  {
   "cell_type": "code",
   "execution_count": 164,
   "metadata": {},
   "outputs": [],
   "source": [
    "tz_all = tz_other.append(tz_policy, ignore_index=True)"
   ]
  },
  {
   "cell_type": "code",
   "execution_count": 264,
   "metadata": {},
   "outputs": [],
   "source": [
    "data2 = data2[data2['Country'] != 'Tanzania']"
   ]
  },
  {
   "cell_type": "code",
   "execution_count": 265,
   "metadata": {},
   "outputs": [],
   "source": [
    "data2 = data2.append(tz_all, ignore_index=True)"
   ]
  },
  {
   "cell_type": "code",
   "execution_count": 267,
   "metadata": {},
   "outputs": [],
   "source": [
    "from IPython.display import FileLink, FileLinks\n",
    "\n",
    "data2.to_csv('C:/Users/kusht/Downloads/saved/Merged_Data_v23.csv', index=False)"
   ]
  },
  {
   "cell_type": "code",
   "execution_count": 268,
   "metadata": {},
   "outputs": [
    {
     "data": {
      "text/plain": [
       "['Characteristic Category',\n",
       " 'Characteristic Label',\n",
       " 'Country',\n",
       " 'Data Source',\n",
       " 'Indicator Name',\n",
       " 'Indicator Value (Numeric)',\n",
       " 'Indicator Value (Text)',\n",
       " 'Year']"
      ]
     },
     "execution_count": 268,
     "metadata": {},
     "output_type": "execute_result"
    }
   ],
   "source": [
    "model.columns.tolist()"
   ]
  },
  {
   "cell_type": "code",
   "execution_count": null,
   "metadata": {},
   "outputs": [],
   "source": []
  }
 ],
 "metadata": {
  "kernelspec": {
   "display_name": "Python 3",
   "language": "python",
   "name": "python3"
  },
  "language_info": {
   "codemirror_mode": {
    "name": "ipython",
    "version": 3
   },
   "file_extension": ".py",
   "mimetype": "text/x-python",
   "name": "python",
   "nbconvert_exporter": "python",
   "pygments_lexer": "ipython3",
   "version": "3.6.4"
  }
 },
 "nbformat": 4,
 "nbformat_minor": 2
}
